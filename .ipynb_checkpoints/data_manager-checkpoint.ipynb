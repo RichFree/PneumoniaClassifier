{
 "cells": [
  {
   "cell_type": "code",
   "execution_count": null,
   "metadata": {},
   "outputs": [],
   "source": [
    "from pathlib import Path\n",
    "from tensorflow.keras.preprocessing.image import ImageDataGenerator"
   ]
  },
  {
   "cell_type": "code",
   "execution_count": 1,
   "metadata": {},
   "outputs": [],
   "source": [
    "# Current Working Directory\n",
    "base_path = Path('.')\n",
    "data_path = base_path / 'data'\n",
    "\n",
    "# First Data Set\n",
    "pneumonia_data = data_path / 'pneumonia_binary_data1'\n",
    "pneumonia_train_path = pneumonia_data / 'train'\n",
    "pneumonia_test_path = pneumonia_data / 'test'\n",
    "\n",
    "# RSNA Data Set\n",
    "rsna_data_path = data_path / 'rsna_data_scaled_256'\n",
    "rsna_train_path = rsna_data_path / 'train'\n",
    "\n",
    "# Covid Data Set\n",
    "covid_data_path = data_path / 'covid_data'\n",
    "covid_train_path = covid_data_path / 'train'\n",
    "covid_validation_path = covid_data_path / 'validation2'"
   ]
  },
  {
   "cell_type": "code",
   "execution_count": null,
   "metadata": {},
   "outputs": [],
   "source": [
    "image_gen = ImageDataGenerator(aug_param)\n",
    "image_gen_w_split = ImageDataGenerator(aug_param, validation_split=0.2)"
   ]
  },
  {
   "cell_type": "code",
   "execution_count": 3,
   "metadata": {},
   "outputs": [],
   "source": [
    "def get_data_gen(dataset, datatype, aug_param, gen_param):\n",
    "    if dataset == 'original':\n",
    "        image_gen = ImageDataGenerator(aug_param)\n",
    "    elif dataset == 'rsna' or dataset == 'covid':\n",
    "        image_gen = ImageDataGenerator(aug_param, validation_split=0.2)\n",
    "    else:    \n",
    "        print(\"Warning: Invalid Parameter\")\n",
    "    \n",
    "    if dataset == 'original':\n",
    "        train_gen = image_gen.flow_from_directory(pneumonia_train_path, gen_param)\n",
    "        test_gen = image_gen.flow_from_directory(pneumonia_test_path, gen_param, shuffle=False)\n",
    "    elif dataset == 'rsna':\n",
    "        train_gen = image_gen_w_split.flow_from_directory(rsna_train_path, gen_param, subset='training')\n",
    "        test_gen = image_gen_w_split.flow_from_directory(rsna_train_path, gen_param, subset='validation', shuffle=False)\n",
    "    elif dataset == 'covid':\n",
    "        train_gen = image_gen_w_split.flow_from_directory(covid_train_path, gen_param, subset='training')\n",
    "        test_gen = image_gen_w_split.flow_from_directory(covid_train_path, gen_param, subset='validation', shuffle=False)\n",
    "        validation2_gen = image_gen.flow_from_directory(covid_validation_path, gen_param, shuffle=False)\n",
    "        \n",
    "    if datatype == 'train':\n",
    "        return train_gen\n",
    "    elif datatype == 'test':\n",
    "        return test_gen\n",
    "    elif datatype == 'validation2':\n",
    "        return validation2_gen"
   ]
  }
 ],
 "metadata": {
  "kernelspec": {
   "display_name": "Python 3",
   "language": "python",
   "name": "python3"
  },
  "language_info": {
   "codemirror_mode": {
    "name": "ipython",
    "version": 3
   },
   "file_extension": ".py",
   "mimetype": "text/x-python",
   "name": "python",
   "nbconvert_exporter": "python",
   "pygments_lexer": "ipython3",
   "version": "3.7.7"
  }
 },
 "nbformat": 4,
 "nbformat_minor": 4
}
